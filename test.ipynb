{
 "cells": [
  {
   "cell_type": "code",
   "execution_count": 1,
   "metadata": {},
   "outputs": [],
   "source": [
    "import random\n",
    "import torch\n",
    "import torch.nn as nn\n",
    "import torch.optim as optim\n",
    "import torchtext"
   ]
  },
  {
   "cell_type": "code",
   "execution_count": 88,
   "metadata": {},
   "outputs": [],
   "source": [
    "\n",
    "class Bilinear_Attention(nn.Module):\n",
    "    def __init__(self, encoder_dim, decoder_dim):\n",
    "        super(Bilinear_Attention, self).__init__()\n",
    "        self.W = nn.Linear(decoder_dim, encoder_dim, bias = False)\n",
    "        self.fc = nn.Linear(decoder_dim + encoder_dim, decoder_dim)\n",
    "        \n",
    "    def forward(self, encoder_out, decoder_hidden):\n",
    "        decoder_attn = self.W(decoder_hidden)\n",
    "        score = torch.matmul(decoder_attn, encoder_out.transpose(1,2))\n",
    "        att_weights = torch.softmax(score, dim = 1)\n",
    "        att = torch.sum(torch.matmul(att_weights,encoder_out), dim = 1)\n",
    "        \n",
    "        new_hidden = torch.cat((decoder_hidden, att.unsqueeze(0).repeat(decoder_hidden.shape[0],1,1)) , dim = 2)\n",
    "        new_hidden = self.fc(new_hidden)\n",
    "        new_hidden = torch.tanh(new_hidden)\n",
    "        return new_hidden\n"
   ]
  },
  {
   "cell_type": "code",
   "execution_count": 91,
   "metadata": {},
   "outputs": [
    {
     "name": "stdout",
     "output_type": "stream",
     "text": [
      "torch.Size([2, 2, 5])\n",
      "torch.Size([2, 5, 3])\n",
      "tensor([[[-0.1130, -0.5968, -0.3299,  0.9539, -0.4031],\n",
      "         [-0.1130, -0.5968, -0.3299,  0.9539, -0.4031]],\n",
      "\n",
      "        [[-0.1130, -0.5968, -0.3299,  0.9539, -0.4031],\n",
      "         [-0.1130, -0.5968, -0.3299,  0.9539, -0.4031]]],\n",
      "       grad_fn=<TanhBackward0>)\n"
     ]
    }
   ],
   "source": [
    "encoder_out = torch.ones(2,3,5)\n",
    "dec_hid = torch.ones(2,2,5)\n",
    "\n",
    "att = Bilinear_Attention(5,5)\n",
    "\n",
    "print(att.forward(encoder_out, dec_hid))"
   ]
  },
  {
   "cell_type": "code",
   "execution_count": null,
   "metadata": {},
   "outputs": [],
   "source": []
  }
 ],
 "metadata": {
  "kernelspec": {
   "display_name": "PLN",
   "language": "python",
   "name": "python3"
  },
  "language_info": {
   "codemirror_mode": {
    "name": "ipython",
    "version": 3
   },
   "file_extension": ".py",
   "mimetype": "text/x-python",
   "name": "python",
   "nbconvert_exporter": "python",
   "pygments_lexer": "ipython3",
   "version": "3.11.5"
  }
 },
 "nbformat": 4,
 "nbformat_minor": 2
}

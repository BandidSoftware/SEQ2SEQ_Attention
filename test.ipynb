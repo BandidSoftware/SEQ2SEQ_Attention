{
 "cells": [
  {
   "cell_type": "code",
   "execution_count": 2,
   "metadata": {},
   "outputs": [],
   "source": [
    "import random\n",
    "import torch\n",
    "import torch.nn as nn\n",
    "import torch.optim as optim\n",
    "import torchtext"
   ]
  },
  {
   "cell_type": "code",
   "execution_count": 28,
   "metadata": {},
   "outputs": [],
   "source": [
    "\n",
    "class Bilinear_Attention(nn.Module):\n",
    "    def __init__(self, encoder_dim, decoder_dim):\n",
    "        super(Bilinear_Attention, self).__init__()\n",
    "        self.W = nn.Linear(decoder_dim, encoder_dim, bias = False)\n",
    "        self.fc = nn.Linear(decoder_dim + encoder_dim, decoder_dim)\n",
    "        \n",
    "    def forward(self, encoder_out, decoders_hidden):\n",
    "        new_hiddens = []\n",
    "\n",
    "        for decoder_hidden in decoders_hidden:\n",
    "            decoder_attn = self.W(decoder_hidden)\n",
    "            score = torch.matmul(decoder_attn, encoder_out.transpose(1,2))\n",
    "            att_weights = torch.softmax(score, dim = 1)\n",
    "            att = torch.sum(torch.matmul(att_weights,encoder_out), dim = 1)\n",
    "            new_hidden = torch.cat((decoder_hidden, att) , dim = 1)\n",
    "            new_hidden = self.fc(new_hidden)\n",
    "            new_hidden = torch.tanh(new_hidden)\n",
    "            new_hiddens.append(new_hidden)\n",
    "        return torch.stack(new_hiddens)\n",
    "        \n"
   ]
  },
  {
   "cell_type": "code",
   "execution_count": 29,
   "metadata": {},
   "outputs": [
    {
     "name": "stdout",
     "output_type": "stream",
     "text": [
      "tensor([[1., 1., 1., 1., 1.],\n",
      "        [1., 1., 1., 1., 1.],\n",
      "        [1., 1., 1., 1., 1.]])\n",
      "tensor([[1., 1., 1., 1., 1.],\n",
      "        [1., 1., 1., 1., 1.],\n",
      "        [1., 1., 1., 1., 1.]])\n",
      "tensor([[[-0.2786, -0.8589, -0.0024,  0.1165, -0.8878],\n",
      "         [-0.2786, -0.8589, -0.0024,  0.1165, -0.8878],\n",
      "         [-0.2786, -0.8589, -0.0024,  0.1165, -0.8878]],\n",
      "\n",
      "        [[-0.2786, -0.8589, -0.0024,  0.1165, -0.8878],\n",
      "         [-0.2786, -0.8589, -0.0024,  0.1165, -0.8878],\n",
      "         [-0.2786, -0.8589, -0.0024,  0.1165, -0.8878]]],\n",
      "       grad_fn=<StackBackward0>)\n"
     ]
    }
   ],
   "source": [
    "encoder_out = torch.ones(3,3,5)\n",
    "dec_hid = torch.ones(2,3,5)\n",
    "for dec in dec_hid:\n",
    "    print(dec)\n",
    "att = Bilinear_Attention(5,5)\n",
    "\n",
    "print(att.forward(encoder_out, dec_hid))"
   ]
  },
  {
   "cell_type": "code",
   "execution_count": null,
   "metadata": {},
   "outputs": [],
   "source": []
  }
 ],
 "metadata": {
  "kernelspec": {
   "display_name": "PLN",
   "language": "python",
   "name": "python3"
  },
  "language_info": {
   "codemirror_mode": {
    "name": "ipython",
    "version": 3
   },
   "file_extension": ".py",
   "mimetype": "text/x-python",
   "name": "python",
   "nbconvert_exporter": "python",
   "pygments_lexer": "ipython3",
   "version": "3.11.5"
  }
 },
 "nbformat": 4,
 "nbformat_minor": 2
}
